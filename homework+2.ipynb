{
 "cells": [
  {
   "cell_type": "markdown",
   "metadata": {},
   "source": []
  },
  {
   "cell_type": "code",
   "execution_count": 30,
   "metadata": {
    "collapsed": false
   },
   "outputs": [],
   "source": [
    "%matplotlib inline\n",
    "import numpy as np\n",
    "import matplotlib.pyplot as plt\n",
    "import scipy.stats  as stats\n",
    "import pandas as pd"
   ]
  },
  {
   "cell_type": "code",
   "execution_count": 83,
   "metadata": {
    "collapsed": false
   },
   "outputs": [
    {
     "data": {
      "text/plain": [
       "<matplotlib.legend.Legend at 0x1fd1c9cc4a8>"
      ]
     },
     "execution_count": 83,
     "metadata": {},
     "output_type": "execute_result"
    },
    {
     "data": {
      "image/png": "[encoded data removed]",
      "text/plain": [
       "<matplotlib.figure.Figure at 0x1fd1c934e80>"
      ]
     },
     "metadata": {},
     "output_type": "display_data"
    }
   ],
   "source": [
    "gauss_a = stats.norm.rvs(loc=4, scale=0.9, size=3000)\n",
    "gauss_b = stats.norm.rvs(loc=-2, scale=1, size=2000)\n",
    "# combine arrays along an axis\n",
    "mix_norm = np.concatenate((gauss_a, gauss_b))\n",
    "HPD_a = np.percentile(gauss_a,[2.5,97.5])\n",
    "HPD_b = np.percentile(gauss_b,[2.5,97.5])\n",
    "plt.hist(mix_norm, normed=False)\n",
    "\n",
    "#plot percentile ranges for each group of data seperately \n",
    "plt.plot(HPD_a,[0,0],label='HPD {:.2f} {:.2f}'.format(*HPD),\n",
    "        linewidth=8, color='c')\n",
    "plt.plot(HPD_b,[0,0],label='HPD {:.2f} {:.2f}'.format(*HPD),\n",
    "        linewidth=8, color='c')\n",
    "\n",
    "plt.legend(fontsize=10)\n"
   ]
  },
  {
   "cell_type": "markdown",
   "metadata": {},
   "source": [
    "bins = mix_norm\n",
    "inds = \n",
    "for n in range(mix_norm.size):\n",
    "    print(bins[ind[n]-1], \"<=\", mix_norm[n], bins[inds[n]])"
   ]
  },
  {
   "cell_type": "code",
   "execution_count": 73,
   "metadata": {
    "collapsed": false
   },
   "outputs": [
    {
     "data": {
      "text/plain": [
       "BinnedStatisticResult(statistic=array([-4.44309245, -3.31943581, -2.20446148, -1.09631173,  0.01034651,\n",
       "        1.83978635,  2.95931996,  4.04344965,  5.10535969,  6.25367213]), bin_edges=array([-5.35073305, -4.09856837, -2.84640368, -1.594239  , -0.34207432,\n",
       "        0.91009037,  2.16225505,  3.41441973,  4.66658442,  5.9187491 ,\n",
       "        7.17091378]), binnumber=array([8, 9, 8, ..., 4, 3, 4]))"
      ]
     },
     "execution_count": 73,
     "metadata": {},
     "output_type": "execute_result"
    }
   ],
   "source": [
    "stats.binned_statistic(mix_norm, mix_norm ,statistic='mean', bins = 10)\n"
   ]
  },
  {
   "cell_type": "code",
   "execution_count": 88,
   "metadata": {
    "collapsed": false
   },
   "outputs": [
    {
     "ename": "NameError",
     "evalue": "name 'x_edge' is not defined",
     "output_type": "error",
     "traceback": [
      "\u001b[0;31m---------------------------------------------------------------------------\u001b[0m",
      "\u001b[0;31mNameError\u001b[0m                                 Traceback (most recent call last)",
      "\u001b[0;32m<ipython-input-88-03a502c0bd13>\u001b[0m in \u001b[0;36m<module>\u001b[0;34m()\u001b[0m\n\u001b[1;32m      2\u001b[0m \u001b[1;33m\u001b[0m\u001b[0m\n\u001b[1;32m      3\u001b[0m \u001b[1;32mfor\u001b[0m \u001b[0mn\u001b[0m \u001b[1;32min\u001b[0m \u001b[0mrange\u001b[0m\u001b[1;33m(\u001b[0m\u001b[0mmix_norm\u001b[0m\u001b[1;33m.\u001b[0m\u001b[0msize\u001b[0m\u001b[1;33m)\u001b[0m\u001b[1;33m:\u001b[0m\u001b[1;33m\u001b[0m\u001b[0m\n\u001b[0;32m----> 4\u001b[0;31m     \u001b[0mprint\u001b[0m\u001b[1;33m(\u001b[0m\u001b[0mx_edge\u001b[0m\u001b[1;33m,\u001b[0m \u001b[0my_ydge\u001b[0m\u001b[1;33m)\u001b[0m\u001b[1;33m\u001b[0m\u001b[0m\n\u001b[0m",
      "\u001b[0;31mNameError\u001b[0m: name 'x_edge' is not defined"
     ]
    }
   ],
   "source": [
    "#bin_edges\n",
    "\n",
    "for n in range(mix_norm.size):\n",
    "    print(x_edge, y_ydge)"
   ]
  },
  {
   "cell_type": "code",
   "execution_count": 69,
   "metadata": {
    "collapsed": false
   },
   "outputs": [
    {
     "data": {
      "text/plain": [
       "<matplotlib.collections.LineCollection at 0x1fd1c9023c8>"
      ]
     },
     "execution_count": 69,
     "metadata": {},
     "output_type": "execute_result"
    },
    {
     "data": {
      "image/png": "[encoded data removed]",
      "text/plain": [
       "<matplotlib.figure.Figure at 0x1fd1c767048>"
      ]
     },
     "metadata": {},
     "output_type": "display_data"
    }
   ],
   "source": [
    "bin_means, bin_edges, binnumber = stats.binned_statistic(mix_norm, mix_norm ,statistic='mean', bins = 10)\n",
    "plt.figure()\n",
    "plt.hlines(bin_means, bin_edges[:1], bin_edges, colors ='k', lw = 5)"
   ]
  },
  {
   "cell_type": "code",
   "execution_count": 50,
   "metadata": {
    "collapsed": false
   },
   "outputs": [],
   "source": [
    "#unique, counts = np.unique(mix_norm, return_counts=True)\n",
    "#unique, counts"
   ]
  },
  {
   "cell_type": "code",
   "execution_count": 49,
   "metadata": {
    "collapsed": false,
    "scrolled": true
   },
   "outputs": [],
   "source": [
    "#returns frequency of each value\n",
    "#pd.value_counts(pd.Series(mix_norm))"
   ]
  }
 ],
 "metadata": {
  "kernelspec": {
   "display_name": "Python [conda root]",
   "language": "python",
   "name": "conda-root-py"
  },
  "language_info": {
   "codemirror_mode": {
    "name": "ipython",
    "version": 3
   },
   "file_extension": ".py",
   "mimetype": "text/x-python",
   "name": "python",
   "nbconvert_exporter": "python",
   "pygments_lexer": "ipython3",
   "version": "3.5.2"
  }
 },
 "nbformat": 4,
 "nbformat_minor": 1
}
