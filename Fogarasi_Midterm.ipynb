{
 "cells": [
  {
   "cell_type": "markdown",
   "metadata": {},
   "source": [
    "## BME 502 Midterm by Magdalene Fogarasi"
   ]
  },
  {
   "cell_type": "markdown",
   "metadata": {},
   "source": [
    "## Part 1\n",
    "\n",
    "## Process of Generating Function\n",
    "\n",
    "If function defined by $$ f(x|\\theta) = a +bx $$\n",
    "Where $$\\theta$$ is defined by the parameters $$(a,b)$$ with an error assumed to come from two Gaussian Distributions with bimodal error. Given that each of the distributions can be defined by the equation for the Gaussian with the same $\\sigma$ as the width and each shifted $ +/- \\Delta y = +/- 1$. The values of $\\sigma$ and $\\Delta y$ were chosen to make simplifying the equation easier analytically. \n",
    "\n",
    "Estimating $\\sigma$ to be 1 (or assuming it is a constant) and also treating y as a constant it can be written as: $$(P(x|\\theta)) = \\prod (1/sqrt(2*\\pi)) * [.5*exp(((-y_i - a - bx - 1)^2)/2) + .5*exp(((-y_i - a - bx + 1)^2)/2)]$$\n",
    "\n"
   ]
  },
  {
   "cell_type": "markdown",
   "metadata": {},
   "source": [
    "This equation is for a single point. So in order to calculate the probability of a set of ${y_i}$ we need to multiply the probabilites of each point in the set.\n",
    "\n",
    "In order to simplify and maximize this equation we can take the partial derivates for a and b in terms of x and y and set them equal to zero in order to see when the conditions will be met (find the roots). When we take the roots we can ignore the constants .\n",
    "\n",
    "The roots of a function can be found using scipy.optimize\n",
    "\n",
    "The work for this is attached as a hand written pdf. The a and b being subbed are constants. I think there is an error in the partials calculation because it should be in terms of just a and b and not x and y so I think I may have made a mistake while subsutiting. But the general idea I believe is correct."
   ]
  },
  {
   "cell_type": "markdown",
   "metadata": {},
   "source": [
    "## Part 2 \n",
    "\n",
    "## Using Partials to Compute Parameters\n",
    "\n",
    "Using the log likelihood and the partials in a and b, we can find the values for in which the partial in a and the partial in b are 0. \n",
    "\n",
    "The partials were computed by first using the identities:\n",
    "(a+b)^2 = a^2 + 2ab + b^2, \n",
    "(a-b)^2 = a^2 - 2ab + b^2, \n",
    "Subbing in a = ($y_i$ - f(x|$\\theta$)) and b = $\\Delta$y\n",
    "\n",
    "Then we can pull out the constants of the equation which simplify to the X^2 we calculated in class. "
   ]
  },
  {
   "cell_type": "code",
   "execution_count": 161,
   "metadata": {
    "collapsed": true
   },
   "outputs": [],
   "source": [
    "%matplotlib inline\n",
    "import numpy as np\n",
    "import scipy.optimize as sciop\n",
    "import matplotlib.pylab as plt\n",
    "import math\n",
    "import scipy.stats as stats"
   ]
  },
  {
   "cell_type": "code",
   "execution_count": 91,
   "metadata": {
    "collapsed": false
   },
   "outputs": [
    {
     "name": "stdout",
     "output_type": "stream",
     "text": [
      "[-5. -4. -3. -2. -1.  0.  1.  2.  3.  4.  5.]\n",
      "[ -9.64693137  -8.94174263  -7.11365404  -3.6736729   -1.07701336\n",
      "  -0.07441566   0.45515786   3.56094567   5.17167299   8.62243189\n",
      "  10.95658775]\n",
      "2 2\n"
     ]
    }
   ],
   "source": [
    "#find the roots of the function by taking the partials in terms of a and b with sigma .1\n",
    "x=np.linspace(-5,5,11)\n",
    "b = 2\n",
    "y=b*x+np.random.normal(0,1,11)\n",
    "a = 2\n",
    "print(x)\n",
    "print(y)\n",
    "print(a,b)"
   ]
  },
  {
   "cell_type": "code",
   "execution_count": 210,
   "metadata": {
    "collapsed": false
   },
   "outputs": [],
   "source": [
    "def derivative(x0, x, y):\n",
    "    a = x0[0]\n",
    "    b = x0[1]\n",
    "    a_der = (-100*(-a -b*x+y)) * (-2*math.tanh(2*(-a-b*x+y)))\n",
    "    b_der = (100*x*(a+b*x-y)) * (-2*x*math.tanh(2*(-a-b*x+y)))\n",
    "    return np.array([a_der, b_der])"
   ]
  },
  {
   "cell_type": "code",
   "execution_count": 215,
   "metadata": {
    "collapsed": false
   },
   "outputs": [
    {
     "name": "stdout",
     "output_type": "stream",
     "text": [
      "    fjac: array([[-0.03996804, -0.99920096],\n",
      "       [ 0.99920096, -0.03996804]])\n",
      "     fun: array([  2.01948392e-26,   5.04870979e-25])\n",
      " message: 'The solution converged.'\n",
      "    nfev: 64\n",
      "     qtf: array([ -2.55795324e-24,   1.44309495e-35])\n",
      "       r: array([ -9.50047199e+02,  -8.44485295e+02,  -1.11925809e-20])\n",
      "  status: 1\n",
      " success: True\n",
      "       x: array([ 1.99092369,  2.01021007])\n"
     ]
    }
   ],
   "source": [
    "#a and b points\n",
    "print(sciop.root(derivative, x0=[2,2], args = (x[0], y[0])))"
   ]
  },
  {
   "cell_type": "markdown",
   "metadata": {},
   "source": [
    "## Part 3"
   ]
  },
  {
   "cell_type": "code",
   "execution_count": 146,
   "metadata": {
    "collapsed": false
   },
   "outputs": [
    {
     "name": "stdout",
     "output_type": "stream",
     "text": [
      "x Data:  [-5. -4. -3. -2. -1.  0.  1.  2.  3.  4.  5.]\n",
      "y Data:  [ -8.06012667  -9.84915216  -8.00481116  -5.9648295    0.14365299\n",
      "   1.90799102   0.11692015   1.97345285   4.02919154  10.01464509\n",
      "   8.17009621]\n"
     ]
    }
   ],
   "source": [
    "#generate some points with given bimodal errors from the code we wrote in class\n",
    "x=np.linspace(-5,5,11)\n",
    "chisq_list=[]\n",
    "for i in range(1000):\n",
    "    a=np.random.randint(0,2,size=11)\n",
    "    error=np.where(a,np.random.normal(-2,0.1,11),np.random.normal(2,0.1,11))\n",
    "    y=2*x+error\n",
    "    p=np.polyfit(x,y,1)\n",
    "    res=y-p[0]*x-p[1]\n",
    "    chisq_list.append(np.sum(res**2))\n",
    "print('x Data: ',x)\n",
    "print('y Data: ',y)\n"
   ]
  },
  {
   "cell_type": "code",
   "execution_count": 147,
   "metadata": {
    "collapsed": false
   },
   "outputs": [
    {
     "name": "stdout",
     "output_type": "stream",
     "text": [
      "[-10.16382194  -8.23147518  -6.29912842  -4.36678167  -2.43443491\n",
      "  -0.50208815   1.43025861   3.36260537   5.29495212   7.22729888\n",
      "   9.15964564]\n"
     ]
    }
   ],
   "source": [
    "yfit = p[1]+p[0]*x\n",
    "print(yfit)"
   ]
  },
  {
   "cell_type": "code",
   "execution_count": 148,
   "metadata": {
    "collapsed": false
   },
   "outputs": [
    {
     "data": {
      "text/plain": [
       "[<matplotlib.lines.Line2D at 0x1ed8b4229e8>]"
      ]
     },
     "execution_count": 148,
     "metadata": {},
     "output_type": "execute_result"
    },
    {
     "data": {
      "image/png": "[encoded data removed]",
      "text/plain": [
       "<matplotlib.figure.Figure at 0x1ed8a074940>"
      ]
     },
     "metadata": {},
     "output_type": "display_data"
    }
   ],
   "source": [
    "#generic polyfit auto generated as a baseline for \"binning points\"\n",
    "plt.plot(x,y, \"o\")\n",
    "plt.plot(x,yfit)"
   ]
  },
  {
   "cell_type": "code",
   "execution_count": 217,
   "metadata": {
    "collapsed": false
   },
   "outputs": [],
   "source": [
    "#bin the data into two sets, points greater than the fit line and points less than the fit line\n",
    "top_y = []\n",
    "top_x = []\n",
    "bottom_y = []\n",
    "bottom_x = []\n",
    "on_fit = []\n",
    "for index in range(len(x)):\n",
    "    if y[index] > yfit[index]:\n",
    "        top_y.append(y[index])\n",
    "        top_x.append(x[index])\n",
    "    elif y[index] < yfit[index]:\n",
    "        bottom_y.append(y[index])\n",
    "        bottom_x.append(x[index])\n",
    "    else: #made a catch because once I ran this and it randomly generated a point \n",
    "        #on the orginial line so I assume it could happen rarely that the gaussian error added is 0\n",
    "        on_fit.append(y[index])\n",
    "#print(\"Points above: \", top_y)\n",
    "#print(\"Points below: \", bottom_y)"
   ]
  },
  {
   "cell_type": "code",
   "execution_count": 150,
   "metadata": {
    "collapsed": false
   },
   "outputs": [
    {
     "name": "stdout",
     "output_type": "stream",
     "text": [
      "10.0146450857 -8.06012666705\n"
     ]
    }
   ],
   "source": [
    "print(top_y[-1], top_y[0])"
   ]
  },
  {
   "cell_type": "code",
   "execution_count": 151,
   "metadata": {
    "collapsed": false
   },
   "outputs": [
    {
     "data": {
      "text/plain": [
       "[<matplotlib.lines.Line2D at 0x1ed8b585c18>]"
      ]
     },
     "execution_count": 151,
     "metadata": {},
     "output_type": "execute_result"
    },
    {
     "data": {
      "image/png": "[encoded data removed]",
      "text/plain": [
       "<matplotlib.figure.Figure at 0x1ed8b541780>"
      ]
     },
     "metadata": {},
     "output_type": "display_data"
    }
   ],
   "source": [
    "plt.plot(x,y, \"o\")\n",
    "plt.plot(top_x, top_y)\n",
    "plt.plot(bottom_x,bottom_y)\n",
    "plt.plot(x, yfit)"
   ]
  },
  {
   "cell_type": "code",
   "execution_count": 152,
   "metadata": {
    "collapsed": false
   },
   "outputs": [
    {
     "name": "stdout",
     "output_type": "stream",
     "text": [
      "Slope of Top:  2.00830797253\n",
      "Slope of Bottom:  2.00213870827\n",
      "Slope of Fit(m):  2.0052233404\n",
      "Top Intercept:  1.98141319561\n",
      "Bottom Intercept:  -1.84059733153\n",
      "Delta y:  1.91100526357\n",
      "Fit Intercept (b):  0.0704079320387\n"
     ]
    }
   ],
   "source": [
    "#find slopes and intercept, diff in intercepts is delta y\n",
    "top_slope = (abs(top_y[-1]-top_y[0]))/(abs(top_x[-1]-top_x[0]))\n",
    "print('Slope of Top: ', top_slope)\n",
    "bottom_slope = (abs(bottom_y[-1]-bottom_y[0]))/(abs(bottom_x[-1]-bottom_x[0]))\n",
    "print('Slope of Bottom: ', bottom_slope)\n",
    "\n",
    "m = (top_slope+bottom_slope)/2\n",
    "print('Slope of Fit(m): ', m)\n",
    "\n",
    "#calculate intercepts using b = y-mx\n",
    "top_intercept = top_y[0] - (top_slope*top_x[0])\n",
    "print('Top Intercept: ',top_intercept)\n",
    "bottom_intercept = bottom_y[0] - (bottom_slope*bottom_x[0])\n",
    "print('Bottom Intercept: ', bottom_intercept)\n",
    "delta_y = (top_intercept - bottom_intercept)/2\n",
    "print('Delta y: ', abs(delta_y))\n",
    "b = (top_intercept + bottom_intercept)/2\n",
    "print('Fit Intercept (b): ', b)\n"
   ]
  },
  {
   "cell_type": "code",
   "execution_count": 153,
   "metadata": {
    "collapsed": false
   },
   "outputs": [
    {
     "name": "stdout",
     "output_type": "stream",
     "text": [
      "[array([-5., -4., -3., -2., -1.,  0.,  1.,  2.,  3.,  4.,  5.]), array([ -9.95570877,  -7.95048543,  -5.94526209,  -3.94003875,\n",
      "        -1.93481541,   0.07040793,   2.07563127,   4.08085461,\n",
      "         6.08607795,   8.09130129,  10.09652463])]\n"
     ]
    }
   ],
   "source": [
    "y2 = m*x + b\n",
    "print([x,y2])"
   ]
  },
  {
   "cell_type": "code",
   "execution_count": 154,
   "metadata": {
    "collapsed": false
   },
   "outputs": [
    {
     "data": {
      "text/plain": [
       "[<matplotlib.lines.Line2D at 0x1ed8b5fc160>]"
      ]
     },
     "execution_count": 154,
     "metadata": {},
     "output_type": "execute_result"
    },
    {
     "data": {
      "image/png": "[encoded data removed]",
      "text/plain": [
       "<matplotlib.figure.Figure at 0x1ed8b4f8be0>"
      ]
     },
     "metadata": {},
     "output_type": "display_data"
    }
   ],
   "source": [
    "#Graph the points, the orginial polyfit line, the two fits, and the final correctly fit lines using optimized chi squared\n",
    "plt.plot(x,y, \"o\") \n",
    "plt.plot(top_x, top_y)\n",
    "plt.plot(bottom_x,bottom_y)\n",
    "plt.plot(x,y2, 'k--')\n",
    "plt.plot(x,yfit)"
   ]
  },
  {
   "cell_type": "code",
   "execution_count": 216,
   "metadata": {
    "collapsed": false
   },
   "outputs": [
    {
     "name": "stdout",
     "output_type": "stream",
     "text": [
      "Expected Chi Sqared Value:  7\n",
      "Calculated \"Chi Squared\" with fit lines:  7.64422021554\n"
     ]
    }
   ],
   "source": [
    "#chi sq test, expected value is N-df\n",
    "print('Expected Chi Sqared Value: ', len(x)-4)\n",
    "\n",
    "#chi sq = SUM[((y_i_obs - y_i_model)**2/sigma_i)]\n",
    "#using the two line fits as an equilivent to the chi squared\n",
    "y2 = m*x + b\n",
    "yt = top_slope*x + top_intercept\n",
    "yb = bottom_slope*x + bottom_intercept\n",
    "chi_calc = []\n",
    "\n",
    "for index in range(len(y2)):\n",
    "    if y[index] > y2[index]: #top line chi squared\n",
    "        chi_calc.append(((yt[index] - yb[index])**2 /delta_y))\n",
    "    elif y[index] < y2[index]: #bottom line chi squared\n",
    "        chi_calc.append(((yt[index] - yb[index])**2 /delta_y))\n",
    "    else: #this is a catch in case some of the orginial points were on the poly fit\n",
    "        chi_calc.append(((y2[index]- y2[index])**2 /delta_y))\n",
    "chi_calc = np.array(chi_calc)\n",
    "#print('Calculated Chi Squared with fit line: ',np.sum(chi_calc))   \n",
    "print('Calculated \"Chi Squared\" with fit lines: ',chi_calc.mean())   "
   ]
  },
  {
   "cell_type": "markdown",
   "metadata": {},
   "source": [
    "The final grahp shows the \"chi squared fit\" from the two parallel lines with the orginial fit rather than in a bar graph. "
   ]
  },
  {
   "cell_type": "code",
   "execution_count": null,
   "metadata": {
    "collapsed": true
   },
   "outputs": [],
   "source": []
  }
 ],
 "metadata": {
  "anaconda-cloud": {},
  "kernelspec": {
   "display_name": "Python [conda root]",
   "language": "python",
   "name": "conda-root-py"
  },
  "language_info": {
   "codemirror_mode": {
    "name": "ipython",
    "version": 3
   },
   "file_extension": ".py",
   "mimetype": "text/x-python",
   "name": "python",
   "nbconvert_exporter": "python",
   "pygments_lexer": "ipython3",
   "version": "3.5.2"
  }
 },
 "nbformat": 4,
 "nbformat_minor": 1
}
